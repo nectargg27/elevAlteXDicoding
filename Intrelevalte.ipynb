{
 "cells": [
  {
   "cell_type": "markdown",
   "metadata": {},
   "source": [
    "## **elevAIte with Dicoding Program 2025**\n",
    "\n",
    "elevAIte with Dicoding merupakan sebuah program pelatihan komprehensif di bidang Artificial Intelligence (AI) yang diselenggarakan oleh Microsoft untuk mendukung misi ASEAN Digital Masterplan 2025 dalam mempersiapkan talenta digital yang mahir AI di kawasan ASEAN, termasuk salah satunya di Indonesia.\n",
    "\n",
    "- Learning outcomes\n",
    "Peserta akan belajar berbagai konsep dasar AI, Azure, dan GitHub pada tingkat Dasar, dilanjutkan dengan eksplorasi lebih mendalam mengenai Machine Learning dan pengelolaan data pada tingkat Menengah, serta berakhir pada tingkat Mahir dengan fokus pada Desain dan Implementasi solusi AI kompleks menggunakan teknik deep learning dan proyek dunia nyata.\n"
   ]
  },
  {
   "cell_type": "markdown",
   "metadata": {},
   "source": []
  }
 ],
 "metadata": {
  "language_info": {
   "name": "python"
  }
 },
 "nbformat": 4,
 "nbformat_minor": 2
}
